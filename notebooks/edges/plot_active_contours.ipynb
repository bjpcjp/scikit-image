{
 "cells": [
  {
   "cell_type": "markdown",
   "metadata": {},
   "source": [
    "\n",
    "# Active Contour Model\n",
    "\n",
    "The active contour model is a method to fit open or closed splines to lines or\n",
    "edges in an image [1]_. It works by minimising an energy that is in part\n",
    "defined by the image and part by the spline's shape: length and smoothness. The\n",
    "minimization is done implicitly in the shape energy and explicitly in the\n",
    "image energy.\n",
    "\n",
    "In the following two examples the active contour model is used (1) to segment\n",
    "the face of a person from the rest of an image by fitting a closed curve\n",
    "to the edges of the face and (2) to find the darkest curve between two fixed\n",
    "points while obeying smoothness considerations. Typically it is a good idea to\n",
    "smooth images a bit before analyzing, as done in the following examples.\n",
    "\n",
    "We initialize a circle around the astronaut's face and use the default boundary\n",
    "condition ``boundary_condition='periodic'`` to fit a closed curve. The default\n",
    "parameters ``w_line=0, w_edge=1`` will make the curve search towards edges,\n",
    "such as the boundaries of the face.\n",
    "\n",
    ".. [1] *Snakes: Active contour models*. Kass, M.; Witkin, A.; Terzopoulos, D.\n",
    "       International Journal of Computer Vision 1 (4): 321 (1988).\n",
    "       :DOI:`10.1007/BF00133570`\n"
   ]
  },
  {
   "cell_type": "code",
   "execution_count": null,
   "metadata": {
    "collapsed": false,
    "jupyter": {
     "outputs_hidden": false
    }
   },
   "outputs": [],
   "source": [
    "import numpy as np\n",
    "import matplotlib.pyplot as plt\n",
    "from skimage.color import rgb2gray\n",
    "from skimage import data\n",
    "from skimage.filters import gaussian\n",
    "from skimage.segmentation import active_contour\n",
    "\n",
    "\n",
    "img = data.astronaut()\n",
    "img = rgb2gray(img)\n",
    "\n",
    "s = np.linspace(0, 2*np.pi, 400)\n",
    "r = 100 + 100*np.sin(s)\n",
    "c = 220 + 100*np.cos(s)\n",
    "init = np.array([r, c]).T\n",
    "\n",
    "snake = active_contour(gaussian(img, 3, preserve_range=False),\n",
    "                       init, alpha=0.015, beta=10, gamma=0.001)\n",
    "\n",
    "fig, ax = plt.subplots(figsize=(7, 7))\n",
    "ax.imshow(img, cmap=plt.cm.gray)\n",
    "ax.plot(init[:, 1], init[:, 0], '--r', lw=3)\n",
    "ax.plot(snake[:, 1], snake[:, 0], '-b', lw=3)\n",
    "ax.set_xticks([]), ax.set_yticks([])\n",
    "ax.axis([0, img.shape[1], img.shape[0], 0])\n",
    "\n",
    "plt.show()"
   ]
  },
  {
   "cell_type": "markdown",
   "metadata": {},
   "source": [
    "Here we initialize a straight line between two points, `(5, 136)` and\n",
    "`(424, 50)`, and require that the spline has its end points there by giving\n",
    "the boundary condition `boundary_condition='fixed'`. We furthermore\n",
    "make the algorithm search for dark lines by giving a negative `w_line` value.\n",
    "\n"
   ]
  },
  {
   "cell_type": "code",
   "execution_count": null,
   "metadata": {
    "collapsed": false,
    "jupyter": {
     "outputs_hidden": false
    }
   },
   "outputs": [],
   "source": [
    "img = data.text()\n",
    "\n",
    "r = np.linspace(136, 50, 100)\n",
    "c = np.linspace(5, 424, 100)\n",
    "init = np.array([r, c]).T\n",
    "\n",
    "snake = active_contour(gaussian(img, 1, preserve_range=False),\n",
    "                       init, boundary_condition='fixed',\n",
    "                       alpha=0.1, beta=1.0, w_line=-5, w_edge=0, gamma=0.1)\n",
    "\n",
    "fig, ax = plt.subplots(figsize=(9, 5))\n",
    "ax.imshow(img, cmap=plt.cm.gray)\n",
    "ax.plot(init[:, 1], init[:, 0], '--r', lw=3)\n",
    "ax.plot(snake[:, 1], snake[:, 0], '-b', lw=3)\n",
    "ax.set_xticks([]), ax.set_yticks([])\n",
    "ax.axis([0, img.shape[1], img.shape[0], 0])\n",
    "\n",
    "plt.show()"
   ]
  }
 ],
 "metadata": {
  "kernelspec": {
   "display_name": "Python 3 (ipykernel)",
   "language": "python",
   "name": "python3"
  },
  "language_info": {
   "codemirror_mode": {
    "name": "ipython",
    "version": 3
   },
   "file_extension": ".py",
   "mimetype": "text/x-python",
   "name": "python",
   "nbconvert_exporter": "python",
   "pygments_lexer": "ipython3",
   "version": "3.11.6"
  }
 },
 "nbformat": 4,
 "nbformat_minor": 4
}
