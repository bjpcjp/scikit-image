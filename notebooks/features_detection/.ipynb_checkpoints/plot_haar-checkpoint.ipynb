{
 "cells": [
  {
   "cell_type": "markdown",
   "metadata": {},
   "source": [
    "\n",
    "# Haar-like feature descriptor\n",
    "\n",
    "Haar-like features are simple digital image features that were introduced in a\n",
    "real-time face detector [1]_. These features can be efficiently computed on any\n",
    "scale in constant time, using an integral image [1]_. After that, a small\n",
    "number of critical features is selected from this large set of potential\n",
    "features (e.g., using AdaBoost learning algorithm as in [1]_). The following\n",
    "example will show the mechanism to build this family of descriptors.\n",
    "\n",
    "## References\n",
    "\n",
    ".. [1] Viola, Paul, and Michael J. Jones. \"Robust real-time face\n",
    "       detection.\" International journal of computer vision 57.2\n",
    "       (2004): 137-154.\n",
    "       https://www.merl.com/publications/docs/TR2004-043.pdf\n",
    "       :DOI:`10.1109/CVPR.2001.990517`\n"
   ]
  },
  {
   "cell_type": "code",
   "execution_count": 1,
   "metadata": {
    "collapsed": false,
    "jupyter": {
     "outputs_hidden": false
    }
   },
   "outputs": [],
   "source": [
    "import numpy as np\n",
    "import matplotlib.pyplot as plt\n",
    "\n",
    "from skimage.feature import haar_like_feature_coord\n",
    "from skimage.feature import draw_haar_like_feature"
   ]
  },
  {
   "cell_type": "markdown",
   "metadata": {},
   "source": [
    "### Different types of Haar-like feature descriptors\n",
    " The Haar-like feature descriptors come into 5 different types as illustrated\n",
    " in the figure below. The value of the descriptor is equal to the difference\n",
    " between the sum of intensity values in the green and the red one.\n",
    "\n"
   ]
  },
  {
   "cell_type": "code",
   "execution_count": 2,
   "metadata": {
    "collapsed": false,
    "jupyter": {
     "outputs_hidden": false
    }
   },
   "outputs": [
    {
     "name": "stderr",
     "output_type": "stream",
     "text": [
      "/tmp/ipykernel_36539/386762656.py:12: FutureWarning: `random_state` is a deprecated argument name for `draw_haar_like_feature`. It will be removed in version 0.23. Please use `rng` instead.\n",
      "  haar_feature = draw_haar_like_feature(img, 0, 0,\n"
     ]
    },
    {
     "data": {
      "image/png": "[encoded data removed]",
      "text/plain": [
       "<Figure size 640x480 with 6 Axes>"
      ]
     },
     "metadata": {},
     "output_type": "display_data"
    }
   ],
   "source": [
    "images = [np.zeros((2, 2)), np.zeros((2, 2)),\n",
    "          np.zeros((3, 3)), np.zeros((3, 3)),\n",
    "          np.zeros((2, 2))]\n",
    "\n",
    "feature_types = ['type-2-x', 'type-2-y',\n",
    "                 'type-3-x', 'type-3-y',\n",
    "                 'type-4']\n",
    "\n",
    "fig, axs = plt.subplots(3, 2)\n",
    "for ax, img, feat_t in zip(np.ravel(axs), images, feature_types):\n",
    "    coord, _ = haar_like_feature_coord(img.shape[0], img.shape[1], feat_t)\n",
    "    haar_feature = draw_haar_like_feature(img, 0, 0,\n",
    "                                          img.shape[0],\n",
    "                                          img.shape[1],\n",
    "                                          coord,\n",
    "                                          max_n_features=1,\n",
    "                                          random_state=0)\n",
    "    ax.imshow(haar_feature)\n",
    "    ax.set_title(feat_t)\n",
    "    ax.set_xticks([])\n",
    "    ax.set_yticks([])\n",
    "\n",
    "fig.suptitle('The different Haar-like feature descriptors')\n",
    "plt.axis('off')\n",
    "plt.show()"
   ]
  },
  {
   "cell_type": "markdown",
   "metadata": {},
   "source": [
    "The value of the descriptor is equal to the difference between the sum of the\n",
    "intensity values in the green rectangle and the red one. The red area is\n",
    "subtracted to the sum of the pixel intensities of the green In practice, the\n",
    "Haar-like features will be placed in all possible location of an image and a\n",
    "feature value will be computed for each of these locations.\n",
    "\n"
   ]
  }
 ],
 "metadata": {
  "kernelspec": {
   "display_name": "Python 3 (ipykernel)",
   "language": "python",
   "name": "python3"
  },
  "language_info": {
   "codemirror_mode": {
    "name": "ipython",
    "version": 3
   },
   "file_extension": ".py",
   "mimetype": "text/x-python",
   "name": "python",
   "nbconvert_exporter": "python",
   "pygments_lexer": "ipython3",
   "version": "3.11.6"
  }
 },
 "nbformat": 4,
 "nbformat_minor": 4
}
